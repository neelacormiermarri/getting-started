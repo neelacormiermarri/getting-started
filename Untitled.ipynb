{
 "cells": [
  {
   "cell_type": "code",
   "execution_count": 1,
   "id": "94b29bbd",
   "metadata": {},
   "outputs": [
    {
     "name": "stdout",
     "output_type": "stream",
     "text": [
      "hello world\n"
     ]
    }
   ],
   "source": [
    "print('hello world')"
   ]
  },
  {
   "cell_type": "code",
   "execution_count": 4,
   "id": "3f84e70a",
   "metadata": {},
   "outputs": [
    {
     "name": "stdout",
     "output_type": "stream",
     "text": [
      "Hey Neela. What are you up to?\n"
     ]
    }
   ],
   "source": [
    "name = ' Neela'\n",
    "greeting = 'Hey' + name + \". What are you up to?\"\n",
    "print(greeting)\n"
   ]
  },
  {
   "cell_type": "code",
   "execution_count": 5,
   "id": "3c5aadfc",
   "metadata": {},
   "outputs": [
    {
     "name": "stdout",
     "output_type": "stream",
     "text": [
      "5\n"
     ]
    }
   ],
   "source": [
    "import math \n",
    "a = 40\n",
    "b = 8\n",
    "print(int(a/b))\n"
   ]
  },
  {
   "cell_type": "code",
   "execution_count": 7,
   "id": "78dbe36b",
   "metadata": {},
   "outputs": [
    {
     "name": "stdout",
     "output_type": "stream",
     "text": [
      "Greetings, Black Panther. How is Wakanda?\n"
     ]
    }
   ],
   "source": [
    "name = ' Black Panther'\n",
    "greeting = 'Greetings,' + name + \". How is Wakanda?\"\n",
    "print(greeting)\n"
   ]
  },
  {
   "cell_type": "code",
   "execution_count": 10,
   "id": "d146b8ab",
   "metadata": {},
   "outputs": [
    {
     "name": "stdout",
     "output_type": "stream",
     "text": [
      "Greetings, Shuri. How is Wakanda?\n"
     ]
    }
   ],
   "source": [
    "def greeting(name):\n",
    "    print('Greetings, ' + name + '. How is Wakanda?')\n",
    "    \n",
    "greeting('Shuri')"
   ]
  },
  {
   "cell_type": "code",
   "execution_count": 11,
   "id": "2b0a782b",
   "metadata": {},
   "outputs": [
    {
     "name": "stdout",
     "output_type": "stream",
     "text": [
      "Greetings, Shuri. How is Wakanda?\n"
     ]
    }
   ],
   "source": [
    "greeting('Shuri')"
   ]
  },
  {
   "cell_type": "code",
   "execution_count": 17,
   "id": "d9e5d8c5",
   "metadata": {},
   "outputs": [
    {
     "name": "stdout",
     "output_type": "stream",
     "text": [
      "1.0471975511965976\n"
     ]
    }
   ],
   "source": [
    "import math \n",
    "x = math.pi\n",
    "y = 3\n",
    "print(x/y)\n"
   ]
  },
  {
   "cell_type": "code",
   "execution_count": 16,
   "id": "d8decdfb",
   "metadata": {},
   "outputs": [
    {
     "name": "stdout",
     "output_type": "stream",
     "text": [
      "2.0\n"
     ]
    }
   ],
   "source": [
    "def divide(a, b):\n",
    "    print(a/b)\n",
    "    \n",
    "divide(6, 3)\n",
    "    "
   ]
  },
  {
   "cell_type": "code",
   "execution_count": 18,
   "id": "5dcbb3a4",
   "metadata": {},
   "outputs": [
    {
     "name": "stdout",
     "output_type": "stream",
     "text": [
      "Hi, Ryan Reynolds. What is the next movie you're going to be in?\n"
     ]
    }
   ],
   "source": [
    "name = ' Ryan Reynolds'\n",
    "greeting = 'Hi,' + name + \". What is the next movie you're going to be in?\"\n",
    "print(greeting)\n"
   ]
  },
  {
   "cell_type": "code",
   "execution_count": 19,
   "id": "e3cc2965",
   "metadata": {},
   "outputs": [
    {
     "name": "stdout",
     "output_type": "stream",
     "text": [
      "22\n"
     ]
    }
   ],
   "source": [
    "h = 17\n",
    "i = 5\n",
    "print(h + i)"
   ]
  },
  {
   "cell_type": "code",
   "execution_count": 20,
   "id": "12e99183",
   "metadata": {},
   "outputs": [
    {
     "name": "stdout",
     "output_type": "stream",
     "text": [
      "28\n"
     ]
    }
   ],
   "source": [
    "def add(h, i):\n",
    "    print(h+i)\n",
    "    \n",
    "add(11, 17)"
   ]
  },
  {
   "cell_type": "code",
   "execution_count": 22,
   "id": "4fe5ef00",
   "metadata": {},
   "outputs": [
    {
     "name": "stdout",
     "output_type": "stream",
     "text": [
      "Hi, chris hemsworth. What is the next movie you're going to be in?\n"
     ]
    }
   ],
   "source": [
    "def actor(name):\n",
    "    print('Hi,' + name + \". What is the next movie you're going to be in?\")\n",
    "actor(' Chris Hemsworth')"
   ]
  },
  {
   "cell_type": "code",
   "execution_count": 23,
   "id": "f06b3c08",
   "metadata": {},
   "outputs": [
    {
     "name": "stdout",
     "output_type": "stream",
     "text": [
      "Hi, Scarlett Johanasson. What is the next movie you're going to be in?\n"
     ]
    }
   ],
   "source": [
    "def actor(name):\n",
    "    print('Hi,' + name + \". What is the next movie you're going to be in?\")\n",
    "actor(' Scarlett Johanasson')"
   ]
  },
  {
   "cell_type": "code",
   "execution_count": 24,
   "id": "d4452d1c",
   "metadata": {},
   "outputs": [
    {
     "name": "stdout",
     "output_type": "stream",
     "text": [
      "Hi, Chris Rock. What is the next movie you're going to be in?\n"
     ]
    }
   ],
   "source": [
    "def actor(name):\n",
    "    print('Hi,' + name + \". What is the next movie you're going to be in?\")\n",
    "actor(' Chris Rock')"
   ]
  },
  {
   "cell_type": "code",
   "execution_count": 25,
   "id": "03a1f3f4",
   "metadata": {},
   "outputs": [
    {
     "name": "stdout",
     "output_type": "stream",
     "text": [
      "34\n"
     ]
    }
   ],
   "source": [
    "def add(h, i):\n",
    "    print(h+i)\n",
    "    \n",
    "add(-11, 45)"
   ]
  },
  {
   "cell_type": "code",
   "execution_count": 26,
   "id": "3ca04503",
   "metadata": {},
   "outputs": [
    {
     "name": "stdout",
     "output_type": "stream",
     "text": [
      "91\n"
     ]
    }
   ],
   "source": [
    "def add(h, i):\n",
    "    print(h+i)\n",
    "    \n",
    "add(1, 90)"
   ]
  },
  {
   "cell_type": "code",
   "execution_count": 27,
   "id": "e3a2516f",
   "metadata": {},
   "outputs": [
    {
     "name": "stdout",
     "output_type": "stream",
     "text": [
      "102\n"
     ]
    }
   ],
   "source": [
    "def add(h, i):\n",
    "    print(h+i)\n",
    "    \n",
    "add(-19, 121)"
   ]
  },
  {
   "cell_type": "code",
   "execution_count": null,
   "id": "70a89639",
   "metadata": {},
   "outputs": [],
   "source": []
  }
 ],
 "metadata": {
  "kernelspec": {
   "display_name": "Python 3 (ipykernel)",
   "language": "python",
   "name": "python3"
  },
  "language_info": {
   "codemirror_mode": {
    "name": "ipython",
    "version": 3
   },
   "file_extension": ".py",
   "mimetype": "text/x-python",
   "name": "python",
   "nbconvert_exporter": "python",
   "pygments_lexer": "ipython3",
   "version": "3.9.12"
  }
 },
 "nbformat": 4,
 "nbformat_minor": 5
}
